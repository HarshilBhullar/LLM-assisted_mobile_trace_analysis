{
 "cells": [
  {
   "cell_type": "code",
   "execution_count": 1,
   "metadata": {},
   "outputs": [],
   "source": [
    "from openai import OpenAI\n",
    "client = OpenAI(api_key='INSERT_HERE')"
   ]
  },
  {
   "cell_type": "code",
   "execution_count": 3,
   "metadata": {},
   "outputs": [
    {
     "name": "stdout",
     "output_type": "stream",
     "text": [
      "Calling the API...\n",
      "Python code has been saved to zero_shot_attach_stats_output.py\n"
     ]
    }
   ],
   "source": [
    "print(\"Calling the API...\")\n",
    "response = client.chat.completions.create(\n",
    "  model=\"gpt-3.5-turbo-0125\",\n",
    "  messages=[{\"role\": \"system\", \"content\": \"You are writing python scripts for the open-source project Mobileinsight. \\\n",
    "        You will write scripts to analyze operational traces collected from 5G devices. Given a natural language \\\n",
    "        prompt or problem, you will write a python-script that analyzes 5G logs based on the problem. \\\n",
    "        NOTE: DO NOT WRITE ANY OTHER TEXT IN THE OUTPUT EXCEPT THE CODE. THE OUTPUT SHOULD BE ABLE TO BE RUN OUT OF THE BOX.\"},\n",
    "    {\"role\": \"user\", \"content\": \"I want you to define a class `myAnalyzer` that inherits from a base `Analyzer` class, and returns statistics for attach events: \\\n",
    "    1. Class Definition: `myAnalyzer`\\\n",
    "    The constructor initializes the `Analyzer` base class, sets up message counters for authentication requests, security commands, attach accepts, attach requests, and attach rejections.\\\n",
    "    The class should read in incoming and outgoing NAS ESM and EMM packets. \\\n",
    "    The `__msg_callback` function processes each message by decoding the data and examining XML content to identify specific NAS message types like attach requests, attach accepts, attach rejections, \\\n",
    "    authentication requests, and security mode commands. It updates the respective counters.\\\n",
    "    \\\n",
    "    2. Analysis Function: `my_analysis`\\\n",
    "    Initialize an `OfflineReplayer` as the data source, setting the input path for the trace logs.\\\n",
    "    Configure the source with an instance of `myAnalyzer` and runs the analysis. It should include error handling to manage exceptions that might occur during execution, providing feedback if the analysis fails.\\\n",
    "    \\\n",
    "    3. Main Function:\\\n",
    "    After successfully running the analysis, the script gathers the counts of each event type from the analyzer.\\\n",
    "    It compiles these statistics into a row format and appends them to a CSV file named 'attach_stats.csv'. This file logs the input file path and counts of authentication requests, security commands, \\\n",
    "     attach accepts, attach requests, and attach rejections.\\\n",
    "     \"}]\n",
    ")\n",
    "\n",
    "analyzer_code = str(response.choices[0].message.content)\n",
    "\n",
    "analyzer_code = analyzer_code.replace(\"```python\", \"\", 1)\n",
    "analyzer_code = analyzer_code.replace(\"```\", \"\", 1)\n",
    "\n",
    "file_name= \"zero_shot_attach_stats_output.py\"\n",
    "\n",
    "with open(file_name, 'w') as file:\n",
    "    file.write(analyzer_code)\n",
    "\n",
    "print(f\"Python code has been saved to {file_name}\")"
   ]
  }
 ],
 "metadata": {
  "kernelspec": {
   "display_name": "cs219",
   "language": "python",
   "name": "python3"
  },
  "language_info": {
   "codemirror_mode": {
    "name": "ipython",
    "version": 3
   },
   "file_extension": ".py",
   "mimetype": "text/x-python",
   "name": "python",
   "nbconvert_exporter": "python",
   "pygments_lexer": "ipython3",
   "version": "3.10.14"
  }
 },
 "nbformat": 4,
 "nbformat_minor": 2
}
