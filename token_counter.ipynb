{
 "cells": [
  {
   "cell_type": "code",
   "execution_count": 2,
   "metadata": {},
   "outputs": [
    {
     "name": "stdout",
     "output_type": "stream",
     "text": [
      "Token counts per file:\n",
      "inner_dataset_baseline.csv: 195178 tokens\n",
      "inner_dataset_ICL.csv: 226559 tokens\n",
      "inner_dataset_RAG.csv: 214861 tokens\n",
      "outer_dataset_basline.csv: 43935 tokens\n",
      "outer_dataset_ICL.csv: 41206 tokens\n",
      "outer_dataset_RAG.csv: 42111 tokens\n",
      "\n",
      "Overall total token count: 763850 tokens\n"
     ]
    }
   ],
   "source": [
    "from deepeval.dataset import EvaluationDataset\n",
    "import tiktoken\n",
    "import os\n",
    "import pandas as pd\n",
    "\n",
    "# Define the folder containing your CSV files\n",
    "csv_folder = r\"C:\\Users\\bhull\\Desktop\\UCLA Grad\\Spring 2024\\CS 219\\219_final_project\\LLM-assisted_mobile_trace_analysis\\dataset_csvs\"\n",
    "\n",
    "# Initialize tokenizer for token counting\n",
    "# Replace 'gpt-3.5-turbo' with the actual model name you're using\n",
    "tokenizer = tiktoken.encoding_for_model(\"gpt-4o-mini\")\n",
    "\n",
    "# Function to calculate token count\n",
    "def count_tokens(text):\n",
    "    return len(tokenizer.encode(text))\n",
    "\n",
    "# Initialize overall total\n",
    "overall_total_tokens = 0\n",
    "\n",
    "# Initialize a dictionary to store token counts per file\n",
    "token_counts_per_file = {}\n",
    "\n",
    "# Process each CSV file in the folder\n",
    "for file_name in os.listdir(csv_folder):\n",
    "    if file_name.endswith(\".csv\"):  # Ensure only CSV files are processed\n",
    "        file_path = os.path.join(csv_folder, file_name)\n",
    "\n",
    "        # Create a new EvaluationDataset for each file\n",
    "        dataset = EvaluationDataset()\n",
    "\n",
    "        # Add test cases from the current CSV file\n",
    "        dataset.add_test_cases_from_csv_file(\n",
    "            file_path=file_path,\n",
    "            input_col_name=\"input\",\n",
    "            actual_output_col_name=\"actual_output\",\n",
    "            expected_output_col_name=\"expected_output\"\n",
    "        )\n",
    "\n",
    "        # Initialize token count for the current file\n",
    "        total_tokens_for_file = 0\n",
    "\n",
    "        # Calculate token counts for the current file\n",
    "        for case in dataset.test_cases:\n",
    "            prediction, reference = case.expected_output, case.actual_output\n",
    "            tokens_prediction = count_tokens(prediction)\n",
    "            tokens_reference = count_tokens(reference)\n",
    "            total_tokens_for_file += tokens_prediction + tokens_reference\n",
    "\n",
    "        # Store the total tokens for the current file\n",
    "        token_counts_per_file[file_name] = total_tokens_for_file\n",
    "\n",
    "        # Update the overall total\n",
    "        overall_total_tokens += total_tokens_for_file\n",
    "\n",
    "# Print token counts for each file\n",
    "print(\"Token counts per file:\")\n",
    "for file_name, token_count in token_counts_per_file.items():\n",
    "    print(f\"{file_name}: {token_count} tokens\")\n",
    "\n",
    "# Print overall total token count\n",
    "print(f\"\\nOverall total token count: {overall_total_tokens} tokens\")\n"
   ]
  }
 ],
 "metadata": {
  "kernelspec": {
   "display_name": "langchain_env",
   "language": "python",
   "name": "python3"
  },
  "language_info": {
   "codemirror_mode": {
    "name": "ipython",
    "version": 3
   },
   "file_extension": ".py",
   "mimetype": "text/x-python",
   "name": "python",
   "nbconvert_exporter": "python",
   "pygments_lexer": "ipython3",
   "version": "3.9.20"
  }
 },
 "nbformat": 4,
 "nbformat_minor": 2
}
